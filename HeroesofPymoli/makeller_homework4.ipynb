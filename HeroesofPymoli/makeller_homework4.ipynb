{
 "cells": [
  {
   "cell_type": "code",
   "execution_count": null,
   "metadata": {
    "scrolled": true
   },
   "outputs": [],
   "source": [
    "import pandas as pd\n",
    "import os"
   ]
  },
  {
   "cell_type": "code",
   "execution_count": null,
   "metadata": {
    "scrolled": true
   },
   "outputs": [],
   "source": [
    "file = \"Resources/purchase_data.csv\"\n",
    "purchaseData = pd.read_csv(file)\n",
    "purchaseData.head()"
   ]
  },
  {
   "cell_type": "code",
   "execution_count": null,
   "metadata": {
    "scrolled": true
   },
   "outputs": [],
   "source": [
    "#player counts\n",
    "uniquePlayers = purchaseData[\"SN\"].unique()\n",
    "\n",
    "playerCount = len(uniquePlayers)\n",
    "playerCountDf = pd.DataFrame({\"Total Players\": [playerCount]})\n",
    "\n",
    "\n"
   ]
  },
  {
   "cell_type": "code",
   "execution_count": null,
   "metadata": {
    "scrolled": false
   },
   "outputs": [],
   "source": [
    "#number of unique items\n",
    "uniqueItems = purchaseData[\"Item Name\"].unique()\n",
    "countUniqueItems = len(uniqueItems)\n",
    "\n",
    "#average purchase price\n",
    "meanItems = purchaseData[\"Price\"].mean()\n",
    "\n",
    "#total number of purchases\n",
    "numPurchases = purchaseData[\"Item Name\"].count()\n",
    "\n",
    "#total Revenue\n",
    "totalRevenue = purchaseData[\"Price\"].sum()\n",
    "\n",
    "\n",
    "purchaseAnalysisDf = pd.DataFrame({\"Unique Number of Items\": [countUniqueItems],\n",
    "                                      \"Average Price\": [meanItems],\n",
    "                                      \"Number of Purchases\": [numPurchases], \n",
    "                                      \"Total Revenue\": [totalRevenue]}, index = [0])\n",
    "purchaseAnalysisDf[\"Average Price\"] = purchaseAnalysisDf[\"Average Price\"].map('${:,.2f}'.format)\n",
    "purchaseAnalysisDf[\"Total Revenue\"] = purchaseAnalysisDf[\"Total Revenue\"].map('${:,.2f}'.format)\n",
    "purchaseAnalysisDf"
   ]
  },
  {
   "cell_type": "code",
   "execution_count": null,
   "metadata": {
    "scrolled": true
   },
   "outputs": [],
   "source": [
    "#player gender counts\n",
    "uniqueUsers = purchaseData.sort_values(by = \"Gender\").drop_duplicates(subset=\"SN\")\n",
    "\n",
    "males = uniqueUsers.loc[uniqueUsers[\"Gender\"] == \"Male\", \"Gender\"]\n",
    "females = uniqueUsers.loc[uniqueUsers[\"Gender\"] == \"Female\", \"Gender\"]\n",
    "nonDisclosed = uniqueUsers.loc[uniqueUsers[\"Gender\"] == \"Other / Non-Disclosed\", \"Gender\"]\n",
    "malePlayers = males.count()\n",
    "malePlayers\n",
    "femalePlayers = females.count()\n",
    "nonDisclosedPlayers = nonDisclosed.count()\n",
    "\n",
    "genderDF = pd.DataFrame({\"Total Counts\": [malePlayers, femalePlayers, nonDisclosedPlayers],\n",
    "                        \"Percentage of Players\": [((malePlayers/playerCount)*100),\n",
    "                         ((femalePlayers/playerCount)*100),\n",
    "                        ((nonDisclosedPlayers/playerCount)*100)]},\n",
    "                       index = [\"Male\", \"Female\", \"Other / Non-Disclosed\"])\n",
    "genderDF[\"Percentage of Players\"] = genderDF[\"Percentage of Players\"].map('{:,.2f}%'.format)\n",
    "genderDF\n",
    "\n",
    "\n"
   ]
  },
  {
   "cell_type": "code",
   "execution_count": null,
   "metadata": {
    "scrolled": true
   },
   "outputs": [],
   "source": [
    "genderGroups = purchaseData.groupby([\"Gender\"])\n",
    "purchaseCount = genderGroups[\"Item Name\"].count()\n",
    "avgPurchasePrice = genderGroups[\"Price\"].mean()\n",
    "totalPurValue = genderGroups[\"Price\"].sum()\n",
    "avgFemalePurchase = totalPurValue[\"Female\"]/femalePlayers\n",
    "avgMalePurchase = totalPurValue[\"Male\"]/malePlayers\n",
    "avgNonDiscPurchase = totalPurValue[\"Other / Non-Disclosed\"]/nonDisclosedPlayers\n",
    "\n",
    "\n",
    "genderPurchaseData = pd.DataFrame({\"Purchase Count\" : purchaseCount, \n",
    "                                   \"Average Purchase Price\": avgPurchasePrice, \n",
    "                                   \"Total Purchase Value\":totalPurValue,\n",
    "                                  \"Avg Total Purchase Per Person\": [avgFemalePurchase, avgMalePurchase,avgNonDiscPurchase]})\n",
    "genderPurchaseData[\"Average Purchase Price\"] = genderPurchaseData[\"Average Purchase Price\"].map('${:,.2f}'.format)\n",
    "genderPurchaseData[\"Total Purchase Value\"] = genderPurchaseData[\"Total Purchase Value\"].map('${:,.2f}'.format)\n",
    "genderPurchaseData[\"Avg Total Purchase Per Person\"] = genderPurchaseData[\"Avg Total Purchase Per Person\"].map('${:,.2f}'.format)\n",
    "\n",
    "genderPurchaseData\n"
   ]
  },
  {
   "cell_type": "code",
   "execution_count": null,
   "metadata": {
    "scrolled": true
   },
   "outputs": [],
   "source": [
    "maxAge = purchaseData[\"Age\"].max()\n",
    "\n",
    "bins = [0,9,14,19,24,29,34,39,maxAge]\n",
    "groupNames = [\"<10\", \"11-14\", \"15-19\", \"20-24\", \"25-29\", \"30-34\", \"35-39\", \"40+\" ]\n",
    "uniqueUsers[\"Age Breakdown\"] = pd.cut(uniqueUsers[\"Age\"], bins, labels = groupNames)\n",
    "\n",
    "\n",
    "less10 = uniqueUsers.loc[uniqueUsers[\"Age Breakdown\"]==\"<10\", \"Age Breakdown\"]\n",
    "less10count = less10.count()\n",
    "\n",
    "eleven = uniqueUsers.loc[uniqueUsers[\"Age Breakdown\"]==\"11-14\", \"Age Breakdown\"]\n",
    "elevenCount=eleven.count()\n",
    "\n",
    "fifteen = uniqueUsers.loc[uniqueUsers[\"Age Breakdown\"]==\"15-19\", \"Age Breakdown\"]\n",
    "fifteenCount = fifteen.count()\n",
    "\n",
    "twenty = uniqueUsers.loc[uniqueUsers[\"Age Breakdown\"]==\"20-24\", \"Age Breakdown\"]\n",
    "twentyCount = twenty.count()\n",
    "\n",
    "twentyFive = uniqueUsers.loc[uniqueUsers[\"Age Breakdown\"]==\"25-29\", \"Age Breakdown\"]\n",
    "twentyFiveCount = twentyFive.count()\n",
    "\n",
    "thirty = uniqueUsers.loc[uniqueUsers[\"Age Breakdown\"]==\"30-34\", \"Age Breakdown\"]\n",
    "thirtyCount = thirty.count()\n",
    "\n",
    "thirtyFive = uniqueUsers.loc[uniqueUsers[\"Age Breakdown\"]==\"35-39\", \"Age Breakdown\"]\n",
    "thirtyFiveCount = thirtyFive.count()\n",
    "\n",
    "fortyPlus = uniqueUsers.loc[uniqueUsers[\"Age Breakdown\"]==\"40+\", \"Age Breakdown\"]\n",
    "fortyPlusCount = fortyPlus.count()\n",
    "\n",
    "\n",
    "agesBreakdownDF = pd.DataFrame({\"Total Count\": [less10count, elevenCount, fifteenCount, twentyCount,\n",
    "                                                twentyFiveCount, thirtyCount, thirtyFiveCount, fortyPlusCount],\n",
    "                                \"Percentage of Players\": [((less10count/playerCount)*100), ((elevenCount/playerCount)*100),\n",
    "                                                         ((fifteenCount/playerCount)*100), ((twentyCount/playerCount)*100),\n",
    "                                                         ((twentyFiveCount/playerCount)*100), ((thirtyCount/playerCount)*100),\n",
    "                                                         ((thirtyFiveCount/playerCount)*100), ((fortyPlusCount/playerCount)*100)]},\n",
    "                                                            index = [\"<10\", \"11-14\", \"15-19\", \"20-24\",\n",
    "                                                                     \"25-29\", \"30-34\", \"35-39\", \"40+\"])\n",
    "agesBreakdownDF[\"Percentage of Players\"] = agesBreakdownDF[\"Percentage of Players\"].map('{:,.2f}%'.format)\n",
    "agesBreakdownDF\n",
    "            \n"
   ]
  },
  {
   "cell_type": "code",
   "execution_count": null,
   "metadata": {
    "scrolled": true
   },
   "outputs": [],
   "source": [
    "purchaseData[\"Age Breakdown\"] = pd.cut(purchaseData[\"Age\"], bins, labels = groupNames)\n",
    "ageGroups = purchaseData.groupby([\"Age Breakdown\"])\n",
    "agePurchaseCounts = ageGroups[\"Item Name\"].count()\n",
    "ageAvgPrice = ageGroups[\"Price\"].mean()\n",
    "ageTotalPrice = ageGroups[\"Price\"].sum()\n",
    "ageAvg1 = ageTotalPrice[\"<10\"]/less10count\n",
    "ageAvg2 = ageTotalPrice[\"11-14\"]/elevenCount\n",
    "ageAvg3 = ageTotalPrice[\"15-19\"]/fifteenCount\n",
    "ageAvg4 = ageTotalPrice[\"20-24\"]/twentyCount\n",
    "ageAvg5 = ageTotalPrice[\"25-29\"]/twentyFiveCount\n",
    "ageAvg6 = ageTotalPrice[\"30-34\"]/thirtyCount\n",
    "ageAvg7 = ageTotalPrice[\"35-39\"]/thirtyFiveCount\n",
    "ageAvg8 = ageTotalPrice[\"40+\"]/fortyPlusCount\n",
    "\n",
    "\n",
    "agePurchaseData = pd.DataFrame({\"Purchase Count\": agePurchaseCounts, \"Average Purchase Price\": ageAvgPrice,\n",
    "                               \"Total Purchase Value\": ageTotalPrice, \n",
    "                                \"Avg Total Purchase per Person\": \n",
    "                                [ageAvg1,ageAvg2,ageAvg3,ageAvg4,ageAvg5,ageAvg6,ageAvg7,ageAvg8]})\n",
    "agePurchaseData[\"Average Purchase Price\"] = agePurchaseData[\"Average Purchase Price\"].map('${:,.2f}'.format)\n",
    "agePurchaseData[\"Total Purchase Value\"] = agePurchaseData[\"Total Purchase Value\"].map('${:,.2f}'.format)\n",
    "agePurchaseData[\"Avg Total Purchase per Person\"] = agePurchaseData[\"Avg Total Purchase per Person\"].map('${:,.2f}'.format)\n",
    "agePurchaseData\n"
   ]
  },
  {
   "cell_type": "code",
   "execution_count": null,
   "metadata": {
    "scrolled": true
   },
   "outputs": [],
   "source": []
  },
  {
   "cell_type": "code",
   "execution_count": null,
   "metadata": {
    "scrolled": true
   },
   "outputs": [],
   "source": []
  }
 ],
 "metadata": {
  "kernelspec": {
   "display_name": "Python 3",
   "language": "python",
   "name": "python3"
  },
  "language_info": {
   "codemirror_mode": {
    "name": "ipython",
    "version": 3
   },
   "file_extension": ".py",
   "mimetype": "text/x-python",
   "name": "python",
   "nbconvert_exporter": "python",
   "pygments_lexer": "ipython3",
   "version": "3.6.9"
  }
 },
 "nbformat": 4,
 "nbformat_minor": 2
}
